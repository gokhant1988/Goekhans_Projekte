{
 "cells": [
  {
   "cell_type": "markdown",
   "id": "a6ca08d6",
   "metadata": {},
   "source": [
    "Chi-Quadrat-Test"
   ]
  },
  {
   "cell_type": "code",
   "execution_count": 11,
   "id": "08978ba2",
   "metadata": {},
   "outputs": [
    {
     "name": "stdout",
     "output_type": "stream",
     "text": [
      "---------------------------------------------------------------------------\n",
      "Ausgabe der Ergebnisse:\n",
      "Chi-Quadrat-Wert: 0.7906043281043282\n",
      "p-Wert: 0.3739174525027509\n",
      "Freiheitsgrade: 1\n",
      "Erwartete Häufigkeiten:\n",
      " [[ 96.99029126  14.00970874]\n",
      " [173.00970874  24.99029126]]\n",
      "Absolute Häufigkeiten:\n",
      "LUNG_CANCER           Ja  Nein\n",
      "SHORTNESS OF BREATH           \n",
      "Ja                    94    17\n",
      "Nein                 176    22\n",
      "---------------------------------------------------------------------------\n",
      "Fazit:\n",
      "❌ Es existiert kein statistisch signifikanter Zusammenhang zwischen SHORTNESS OF BREATH und LUNG_CANCER (p ≥ 0.05)\n"
     ]
    }
   ],
   "source": [
    "import pandas as pd\n",
    "import numpy as np\n",
    "import seaborn as sns\n",
    "import matplotlib.pyplot as plt\n",
    "import pandas as pd\n",
    "from scipy.stats import chi2_contingency\n",
    "\n",
    "\n",
    "#1. Datensatz laden\n",
    "df=pd.read_csv(r\"C:\\Users\\goex1\\Desktop\\Selbst erstellte Analysen\\Lungenkrebs Datensatz\\survey lung cancer.csv\")\n",
    "\n",
    "\n",
    "2. #Umkodierungen durchführen, damit Kodierungen einheitlich sind\n",
    "df.head(10)\n",
    "\n",
    "df[\"LUNG_CANCER\"] = df[\"LUNG_CANCER\"].apply(lambda x: 1 if x == \"YES\" else 2)\n",
    "df.head(10)\n",
    "\n",
    "\n",
    "# 3a.Kreuztabelle erstellen\n",
    "contingency_table = pd.crosstab(df[\"SHORTNESS OF BREATH\"], df[\"LUNG_CANCER\"])\n",
    "\n",
    "#4. Chi-Quadrat-Test durchführen\n",
    "chi2, p, dof, expected = chi2_contingency(contingency_table)\n",
    "\n",
    "# Ausgabe der Ergebnisse\n",
    "print(\"---------------------------------------------------------------------------\")\n",
    "print(\"Ausgabe der Ergebnisse:\")\n",
    "print(\"Chi-Quadrat-Wert:\", chi2)\n",
    "print(\"p-Wert:\", p)\n",
    "print(\"Freiheitsgrade:\", dof)\n",
    "print(\"Erwartete Häufigkeiten:\\n\", expected)\n",
    "\n",
    "print(\"Absolute Häufigkeiten:\")\n",
    "contingency_table.index = contingency_table.index.map({1: \"Ja\", 2: \"Nein\"})\n",
    "contingency_table.columns = contingency_table.columns.map({1: \"Ja\", 2: \"Nein\"})\n",
    "\n",
    "print(contingency_table)\n",
    "\n",
    "\n",
    "# Interpretation\n",
    "\n",
    "print(\"---------------------------------------------------------------------------\")\n",
    "print(\"Fazit:\")\n",
    "if p < 0.05:\n",
    "    print(\"✅ Es existiert ein statistisch signifikanter Zusammenhang zwischen SHORTNESS OF BREATH und LUNG_CANCER (p < 0.05)\")\n",
    "else:\n",
    "    print(\"❌ Es existiert kein statistisch signifikanter Zusammenhang zwischen SHORTNESS OF BREATH und LUNG_CANCER (p ≥ 0.05)\")"
   ]
  }
 ],
 "metadata": {
  "kernelspec": {
   "display_name": "Python 3",
   "language": "python",
   "name": "python3"
  },
  "language_info": {
   "codemirror_mode": {
    "name": "ipython",
    "version": 3
   },
   "file_extension": ".py",
   "mimetype": "text/x-python",
   "name": "python",
   "nbconvert_exporter": "python",
   "pygments_lexer": "ipython3",
   "version": "3.13.1"
  }
 },
 "nbformat": 4,
 "nbformat_minor": 5
}
