{
 "cells": [
  {
   "cell_type": "markdown",
   "id": "1cba089e",
   "metadata": {},
   "source": [
    "Chi-Quadrat-Test"
   ]
  },
  {
   "cell_type": "code",
   "execution_count": null,
   "id": "809bcd35",
   "metadata": {},
   "outputs": [
    {
     "name": "stdout",
     "output_type": "stream",
     "text": [
      "---------------------------------------------------------------------------\n",
      "Ausgabe der Ergebnisse:\n",
      "Chi-Quadrat-Wert: 10.083197505756281\n",
      "p-Wert: 0.001496274581781659\n",
      "Freiheitsgrade: 1\n",
      "Erwartete Häufigkeiten:\n",
      " [[119.70873786  17.29126214]\n",
      " [150.29126214  21.70873786]]\n",
      "Absolute Häufigkeiten:\n",
      "LUNG_CANCER   Ja  Nein\n",
      "CHEST PAIN            \n",
      "Ja           110    27\n",
      "Nein         160    12\n",
      "---------------------------------------------------------------------------\n",
      "Fazit:\n",
      "✅ Es existiert ein statistisch signifikanter Zusammenhang zwischen CHEST PAIN und LUNG_CANCER (p < 0.05)\n"
     ]
    }
   ],
   "source": [
    "import pandas as pd\n",
    "import numpy as np\n",
    "import seaborn as sns\n",
    "import matplotlib.pyplot as plt\n",
    "import pandas as pd\n",
    "from scipy.stats import chi2_contingency\n",
    "\n",
    "\n",
    "#1. Datensatz laden\n",
    "df=pd.read_csv(r\"C:\\Users\\goex1\\Desktop\\Selbst erstellte Analysen\\Lungenkrebs Datensatz\\survey lung cancer.csv\")\n",
    "\n",
    "\n",
    "2. #Umkodierungen durchführen, damit Kodierungen einheitlich sind\n",
    "df.head(10)\n",
    "\n",
    "df[\"LUNG_CANCER\"] = df[\"LUNG_CANCER\"].apply(lambda x: 1 if x == \"YES\" else 2)\n",
    "df.head(10)\n",
    "\n",
    "\n",
    "# 3.Kreuztabelle erstellen\n",
    "contingency_table = pd.crosstab(df[\"CHEST PAIN\"], df[\"LUNG_CANCER\"])\n",
    "\n",
    "#4. Chi-Quadrat-Test durchführen\n",
    "chi2, p, dof, expected = chi2_contingency(contingency_table)\n",
    "\n",
    "# Ausgabe der Ergebnisse\n",
    "print(\"---------------------------------------------------------------------------\")\n",
    "print(\"Ausgabe der Ergebnisse:\")\n",
    "print(\"Chi-Quadrat-Wert:\", chi2)\n",
    "print(\"p-Wert:\", p)\n",
    "print(\"Freiheitsgrade:\", dof)\n",
    "print(\"Erwartete Häufigkeiten:\\n\", expected)\n",
    "\n",
    "print(\"Absolute Häufigkeiten:\")\n",
    "contingency_table.index = contingency_table.index.map({1: \"Ja\", 2: \"Nein\"})\n",
    "contingency_table.columns = contingency_table.columns.map({1: \"Ja\", 2: \"Nein\"})\n",
    "\n",
    "\n",
    "print(contingency_table)\n",
    "\n",
    "\n",
    "\n",
    "# Interpretation\n",
    "\n",
    "print(\"---------------------------------------------------------------------------\")\n",
    "print(\"Fazit:\")\n",
    "if p < 0.05:\n",
    "    print(\"✅ Es existiert ein statistisch signifikanter Zusammenhang zwischen CHEST PAIN und LUNG_CANCER (p < 0.05)\")\n",
    "else:\n",
    "    print(\"❌ Es existiert kein statistisch signifikanter Zusammenhang zwischen CHEST PAIN und LUNG_CANCER (p ≥ 0.05)\")"
   ]
  }
 ],
 "metadata": {
  "kernelspec": {
   "display_name": "Python 3",
   "language": "python",
   "name": "python3"
  },
  "language_info": {
   "codemirror_mode": {
    "name": "ipython",
    "version": 3
   },
   "file_extension": ".py",
   "mimetype": "text/x-python",
   "name": "python",
   "nbconvert_exporter": "python",
   "pygments_lexer": "ipython3",
   "version": "3.13.1"
  }
 },
 "nbformat": 4,
 "nbformat_minor": 5
}
